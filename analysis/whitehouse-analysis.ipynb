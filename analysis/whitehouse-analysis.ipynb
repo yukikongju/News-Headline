{
 "cells": [
  {
   "cell_type": "markdown",
   "metadata": {},
   "source": [
    "#### Importing modules"
   ]
  },
  {
   "cell_type": "code",
   "execution_count": 2,
   "metadata": {},
   "outputs": [],
   "source": [
    "import pandas as pd\n",
    "import numpy as np"
   ]
  },
  {
   "cell_type": "markdown",
   "metadata": {},
   "source": [
    "#### Load articles in dataframe"
   ]
  },
  {
   "cell_type": "code",
   "execution_count": 39,
   "metadata": {
    "scrolled": false
   },
   "outputs": [
    {
     "name": "stderr",
     "output_type": "stream",
     "text": [
      "b'Skipping line 708: expected 5 fields, saw 6\\nSkipping line 741: expected 5 fields, saw 6\\nSkipping line 815: expected 5 fields, saw 6\\n'\n"
     ]
    }
   ],
   "source": [
    "relative_path = '../data/whitehouse-articles.csv'\n",
    "articles = pd.read_csv(relative_path, error_bad_lines=False)"
   ]
  },
  {
   "cell_type": "markdown",
   "metadata": {},
   "source": [
    "#### View Dataframe"
   ]
  },
  {
   "cell_type": "code",
   "execution_count": 41,
   "metadata": {},
   "outputs": [
    {
     "data": {
      "text/html": [
       "<div>\n",
       "<style scoped>\n",
       "    .dataframe tbody tr th:only-of-type {\n",
       "        vertical-align: middle;\n",
       "    }\n",
       "\n",
       "    .dataframe tbody tr th {\n",
       "        vertical-align: top;\n",
       "    }\n",
       "\n",
       "    .dataframe thead th {\n",
       "        text-align: right;\n",
       "    }\n",
       "</style>\n",
       "<table border=\"1\" class=\"dataframe\">\n",
       "  <thead>\n",
       "    <tr style=\"text-align: right;\">\n",
       "      <th></th>\n",
       "      <th>title</th>\n",
       "      <th>statement</th>\n",
       "      <th>issue</th>\n",
       "      <th>date</th>\n",
       "      <th>link</th>\n",
       "    </tr>\n",
       "  </thead>\n",
       "  <tbody>\n",
       "    <tr>\n",
       "      <th>0</th>\n",
       "      <td>Remarks by President Trump and Vice President...</td>\n",
       "      <td>Remarks</td>\n",
       "      <td>None</td>\n",
       "      <td>Jun 8 2020</td>\n",
       "      <td>https://www.whitehouse.gov/briefings-statemen...</td>\n",
       "    </tr>\n",
       "    <tr>\n",
       "      <th>1</th>\n",
       "      <td>Press Briefing by Press Secretary Kayleigh McE...</td>\n",
       "      <td>Press Briefings</td>\n",
       "      <td>None</td>\n",
       "      <td>Jun 8 2020</td>\n",
       "      <td>https://www.whitehouse.gov/briefings-statemen...</td>\n",
       "    </tr>\n",
       "    <tr>\n",
       "      <th>2</th>\n",
       "      <td>President Donald J Trump Announces Judicial No...</td>\n",
       "      <td>Nominations &amp; Appointments</td>\n",
       "      <td>None</td>\n",
       "      <td>Jun 8 2020</td>\n",
       "      <td>https://www.whitehouse.gov/presidential-actio...</td>\n",
       "    </tr>\n",
       "    <tr>\n",
       "      <th>3</th>\n",
       "      <td>Readout from the Governors Briefing on COVID-1...</td>\n",
       "      <td>Statements &amp; Releases</td>\n",
       "      <td>None</td>\n",
       "      <td>Jun 8 2020</td>\n",
       "      <td>https://www.whitehouse.gov/briefings-statemen...</td>\n",
       "    </tr>\n",
       "    <tr>\n",
       "      <th>4</th>\n",
       "      <td>Remarks by President Trump on the Jobs Numbers...</td>\n",
       "      <td>Remarks</td>\n",
       "      <td>None</td>\n",
       "      <td>Jun 8 2020</td>\n",
       "      <td>https://www.whitehouse.gov/briefings-statemen...</td>\n",
       "    </tr>\n",
       "  </tbody>\n",
       "</table>\n",
       "</div>"
      ],
      "text/plain": [
       "                                               title  \\\n",
       "0   Remarks by President Trump and Vice President...   \n",
       "1  Press Briefing by Press Secretary Kayleigh McE...   \n",
       "2  President Donald J Trump Announces Judicial No...   \n",
       "3  Readout from the Governors Briefing on COVID-1...   \n",
       "4  Remarks by President Trump on the Jobs Numbers...   \n",
       "\n",
       "                     statement  issue                        date  \\\n",
       "0                      Remarks   None                  Jun 8 2020   \n",
       "1              Press Briefings   None                  Jun 8 2020   \n",
       "2   Nominations & Appointments   None                  Jun 8 2020   \n",
       "3        Statements & Releases   None                  Jun 8 2020   \n",
       "4                      Remarks   None                  Jun 8 2020   \n",
       "\n",
       "                                                link  \n",
       "0   https://www.whitehouse.gov/briefings-statemen...  \n",
       "1   https://www.whitehouse.gov/briefings-statemen...  \n",
       "2   https://www.whitehouse.gov/presidential-actio...  \n",
       "3   https://www.whitehouse.gov/briefings-statemen...  \n",
       "4   https://www.whitehouse.gov/briefings-statemen...  "
      ]
     },
     "execution_count": 41,
     "metadata": {},
     "output_type": "execute_result"
    }
   ],
   "source": [
    "articles.head()"
   ]
  },
  {
   "cell_type": "markdown",
   "metadata": {},
   "source": [
    "#### Dataframe Summary"
   ]
  },
  {
   "cell_type": "code",
   "execution_count": null,
   "metadata": {},
   "outputs": [],
   "source": []
  }
 ],
 "metadata": {
  "kernelspec": {
   "display_name": "Python 3",
   "language": "python",
   "name": "python3"
  },
  "language_info": {
   "codemirror_mode": {
    "name": "ipython",
    "version": 3
   },
   "file_extension": ".py",
   "mimetype": "text/x-python",
   "name": "python",
   "nbconvert_exporter": "python",
   "pygments_lexer": "ipython3",
   "version": "3.7.7"
  }
 },
 "nbformat": 4,
 "nbformat_minor": 4
}
