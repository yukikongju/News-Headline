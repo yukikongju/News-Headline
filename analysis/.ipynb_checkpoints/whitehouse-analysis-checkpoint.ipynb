{
 "cells": [
  {
   "cell_type": "markdown",
   "metadata": {},
   "source": [
    "#### Importing modules"
   ]
  },
  {
   "cell_type": "code",
   "execution_count": 20,
   "metadata": {},
   "outputs": [],
   "source": [
    "import pandas as pd\n",
    "import numpy as np\n",
    "from nltk.corpus import stopwords"
   ]
  },
  {
   "cell_type": "markdown",
   "metadata": {},
   "source": [
    "#### Load articles in dataframe"
   ]
  },
  {
   "cell_type": "code",
   "execution_count": 2,
   "metadata": {
    "scrolled": false
   },
   "outputs": [
    {
     "name": "stderr",
     "output_type": "stream",
     "text": [
      "b'Skipping line 708: expected 5 fields, saw 6\\nSkipping line 741: expected 5 fields, saw 6\\nSkipping line 815: expected 5 fields, saw 6\\n'\n"
     ]
    }
   ],
   "source": [
    "relative_path = '../data/whitehouse-articles.csv'\n",
    "articles = pd.read_csv(relative_path, error_bad_lines=False)"
   ]
  },
  {
   "cell_type": "markdown",
   "metadata": {},
   "source": [
    "#### View Dataframe"
   ]
  },
  {
   "cell_type": "code",
   "execution_count": 3,
   "metadata": {},
   "outputs": [
    {
     "data": {
      "text/html": [
       "<div>\n",
       "<style scoped>\n",
       "    .dataframe tbody tr th:only-of-type {\n",
       "        vertical-align: middle;\n",
       "    }\n",
       "\n",
       "    .dataframe tbody tr th {\n",
       "        vertical-align: top;\n",
       "    }\n",
       "\n",
       "    .dataframe thead th {\n",
       "        text-align: right;\n",
       "    }\n",
       "</style>\n",
       "<table border=\"1\" class=\"dataframe\">\n",
       "  <thead>\n",
       "    <tr style=\"text-align: right;\">\n",
       "      <th></th>\n",
       "      <th>title</th>\n",
       "      <th>statement</th>\n",
       "      <th>issue</th>\n",
       "      <th>date</th>\n",
       "      <th>link</th>\n",
       "    </tr>\n",
       "  </thead>\n",
       "  <tbody>\n",
       "    <tr>\n",
       "      <th>0</th>\n",
       "      <td>Remarks by President Trump and Vice President...</td>\n",
       "      <td>Remarks</td>\n",
       "      <td>None</td>\n",
       "      <td>Jun 8 2020</td>\n",
       "      <td>https://www.whitehouse.gov/briefings-statemen...</td>\n",
       "    </tr>\n",
       "    <tr>\n",
       "      <th>1</th>\n",
       "      <td>Press Briefing by Press Secretary Kayleigh McE...</td>\n",
       "      <td>Press Briefings</td>\n",
       "      <td>None</td>\n",
       "      <td>Jun 8 2020</td>\n",
       "      <td>https://www.whitehouse.gov/briefings-statemen...</td>\n",
       "    </tr>\n",
       "    <tr>\n",
       "      <th>2</th>\n",
       "      <td>President Donald J Trump Announces Judicial No...</td>\n",
       "      <td>Nominations &amp; Appointments</td>\n",
       "      <td>None</td>\n",
       "      <td>Jun 8 2020</td>\n",
       "      <td>https://www.whitehouse.gov/presidential-actio...</td>\n",
       "    </tr>\n",
       "    <tr>\n",
       "      <th>3</th>\n",
       "      <td>Readout from the Governors Briefing on COVID-1...</td>\n",
       "      <td>Statements &amp; Releases</td>\n",
       "      <td>None</td>\n",
       "      <td>Jun 8 2020</td>\n",
       "      <td>https://www.whitehouse.gov/briefings-statemen...</td>\n",
       "    </tr>\n",
       "    <tr>\n",
       "      <th>4</th>\n",
       "      <td>Remarks by President Trump on the Jobs Numbers...</td>\n",
       "      <td>Remarks</td>\n",
       "      <td>None</td>\n",
       "      <td>Jun 8 2020</td>\n",
       "      <td>https://www.whitehouse.gov/briefings-statemen...</td>\n",
       "    </tr>\n",
       "  </tbody>\n",
       "</table>\n",
       "</div>"
      ],
      "text/plain": [
       "                                               title  \\\n",
       "0   Remarks by President Trump and Vice President...   \n",
       "1  Press Briefing by Press Secretary Kayleigh McE...   \n",
       "2  President Donald J Trump Announces Judicial No...   \n",
       "3  Readout from the Governors Briefing on COVID-1...   \n",
       "4  Remarks by President Trump on the Jobs Numbers...   \n",
       "\n",
       "                     statement  issue                        date  \\\n",
       "0                      Remarks   None                  Jun 8 2020   \n",
       "1              Press Briefings   None                  Jun 8 2020   \n",
       "2   Nominations & Appointments   None                  Jun 8 2020   \n",
       "3        Statements & Releases   None                  Jun 8 2020   \n",
       "4                      Remarks   None                  Jun 8 2020   \n",
       "\n",
       "                                                link  \n",
       "0   https://www.whitehouse.gov/briefings-statemen...  \n",
       "1   https://www.whitehouse.gov/briefings-statemen...  \n",
       "2   https://www.whitehouse.gov/presidential-actio...  \n",
       "3   https://www.whitehouse.gov/briefings-statemen...  \n",
       "4   https://www.whitehouse.gov/briefings-statemen...  "
      ]
     },
     "execution_count": 3,
     "metadata": {},
     "output_type": "execute_result"
    }
   ],
   "source": [
    "articles.head()"
   ]
  },
  {
   "cell_type": "markdown",
   "metadata": {},
   "source": [
    "#### Dataframe Summary"
   ]
  },
  {
   "cell_type": "code",
   "execution_count": 4,
   "metadata": {
    "scrolled": true
   },
   "outputs": [
    {
     "data": {
      "text/html": [
       "<div>\n",
       "<style scoped>\n",
       "    .dataframe tbody tr th:only-of-type {\n",
       "        vertical-align: middle;\n",
       "    }\n",
       "\n",
       "    .dataframe tbody tr th {\n",
       "        vertical-align: top;\n",
       "    }\n",
       "\n",
       "    .dataframe thead th {\n",
       "        text-align: right;\n",
       "    }\n",
       "</style>\n",
       "<table border=\"1\" class=\"dataframe\">\n",
       "  <thead>\n",
       "    <tr style=\"text-align: right;\">\n",
       "      <th></th>\n",
       "      <th>title</th>\n",
       "      <th>statement</th>\n",
       "      <th>issue</th>\n",
       "      <th>date</th>\n",
       "      <th>link</th>\n",
       "    </tr>\n",
       "  </thead>\n",
       "  <tbody>\n",
       "    <tr>\n",
       "      <th>count</th>\n",
       "      <td>988</td>\n",
       "      <td>988</td>\n",
       "      <td>987</td>\n",
       "      <td>987</td>\n",
       "      <td>986</td>\n",
       "    </tr>\n",
       "    <tr>\n",
       "      <th>unique</th>\n",
       "      <td>750</td>\n",
       "      <td>17</td>\n",
       "      <td>2</td>\n",
       "      <td>172</td>\n",
       "      <td>986</td>\n",
       "    </tr>\n",
       "    <tr>\n",
       "      <th>top</th>\n",
       "      <td>Bill Announcement</td>\n",
       "      <td>Statements &amp; Releases</td>\n",
       "      <td>None</td>\n",
       "      <td>Apr 3 2020</td>\n",
       "      <td>https://www.whitehouse.gov/articles/united-st...</td>\n",
       "    </tr>\n",
       "    <tr>\n",
       "      <th>freq</th>\n",
       "      <td>33</td>\n",
       "      <td>377</td>\n",
       "      <td>986</td>\n",
       "      <td>16</td>\n",
       "      <td>1</td>\n",
       "    </tr>\n",
       "  </tbody>\n",
       "</table>\n",
       "</div>"
      ],
      "text/plain": [
       "                    title               statement  issue  \\\n",
       "count                 988                     988    987   \n",
       "unique                750                      17      2   \n",
       "top     Bill Announcement   Statements & Releases   None   \n",
       "freq                   33                     377    986   \n",
       "\n",
       "                              date  \\\n",
       "count                          987   \n",
       "unique                         172   \n",
       "top                     Apr 3 2020   \n",
       "freq                            16   \n",
       "\n",
       "                                                     link  \n",
       "count                                                 986  \n",
       "unique                                                986  \n",
       "top      https://www.whitehouse.gov/articles/united-st...  \n",
       "freq                                                    1  "
      ]
     },
     "execution_count": 4,
     "metadata": {},
     "output_type": "execute_result"
    }
   ],
   "source": [
    "articles.describe()"
   ]
  },
  {
   "cell_type": "code",
   "execution_count": 5,
   "metadata": {},
   "outputs": [
    {
     "name": "stdout",
     "output_type": "stream",
     "text": [
      "<class 'pandas.core.frame.DataFrame'>\n",
      "RangeIndex: 988 entries, 0 to 987\n",
      "Data columns (total 5 columns):\n",
      "title         988 non-null object\n",
      " statement    988 non-null object\n",
      " issue        987 non-null object\n",
      " date         987 non-null object\n",
      " link         986 non-null object\n",
      "dtypes: object(5)\n",
      "memory usage: 38.7+ KB\n"
     ]
    }
   ],
   "source": [
    "articles.info()"
   ]
  },
  {
   "cell_type": "code",
   "execution_count": null,
   "metadata": {},
   "outputs": [],
   "source": []
  },
  {
   "cell_type": "markdown",
   "metadata": {},
   "source": [
    "#### Make Corpus"
   ]
  },
  {
   "cell_type": "code",
   "execution_count": 30,
   "metadata": {},
   "outputs": [
    {
     "data": {
      "text/plain": [
       "' Remove other words '"
      ]
     },
     "execution_count": 30,
     "metadata": {},
     "output_type": "execute_result"
    }
   ],
   "source": [
    "list_titles = articles['title']\n",
    "\n",
    "list_titles_currated = []\n",
    "list_title_no_stop_words = []\n",
    "\n",
    "\"\"\" Split Each Title by its word w/o stop words \"\"\"\n",
    "for title in list_titles:\n",
    "    list_words = set(list(title.split(' ')))\n",
    "    \n",
    "    string_no_stop_words = [word for word in list_words \\\n",
    "                if word not in stopwords.words('english')]\n",
    "    \n",
    "    list_title_no_stop_words.append(string_no_stop_words)\n",
    "\n",
    "\"\"\" Remove other words \"\"\"\n",
    "# digits\n",
    "# No Space\n",
    "# Single Letter\n",
    "# apostrophe"
   ]
  },
  {
   "cell_type": "code",
   "execution_count": 31,
   "metadata": {},
   "outputs": [
    {
     "data": {
      "text/plain": [
       "['',\n",
       " 'Enforcement',\n",
       " 'Trump',\n",
       " 'Roundtable',\n",
       " 'Remarks',\n",
       " 'Vice',\n",
       " 'Law',\n",
       " 'Pence',\n",
       " 'President']"
      ]
     },
     "execution_count": 31,
     "metadata": {},
     "output_type": "execute_result"
    }
   ],
   "source": [
    "list_title_no_stop_words[0]"
   ]
  },
  {
   "cell_type": "markdown",
   "metadata": {},
   "source": [
    "#### Sentiment Analysis"
   ]
  },
  {
   "cell_type": "code",
   "execution_count": null,
   "metadata": {},
   "outputs": [],
   "source": []
  }
 ],
 "metadata": {
  "kernelspec": {
   "display_name": "Python 3",
   "language": "python",
   "name": "python3"
  },
  "language_info": {
   "codemirror_mode": {
    "name": "ipython",
    "version": 3
   },
   "file_extension": ".py",
   "mimetype": "text/x-python",
   "name": "python",
   "nbconvert_exporter": "python",
   "pygments_lexer": "ipython3",
   "version": "3.7.7"
  }
 },
 "nbformat": 4,
 "nbformat_minor": 4
}
